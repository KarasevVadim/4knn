{
  "nbformat": 4,
  "nbformat_minor": 0,
  "metadata": {
    "kernelspec": {
      "name": "python3",
      "display_name": "Python 3"
    },
    "language_info": {
      "codemirror_mode": {
        "name": "ipython",
        "version": 3
      },
      "file_extension": ".py",
      "mimetype": "text/x-python",
      "name": "python",
      "nbconvert_exporter": "python",
      "pygments_lexer": "ipython3",
      "version": "3.7.3"
    },
    "colab": {
      "name": "3. Levenshtein distance.ipynb",
      "provenance": []
    },
    "accelerator": "GPU"
  },
  "cells": [
    {
      "cell_type": "markdown",
      "metadata": {
        "id": "4s2aCXggwkfQ",
        "colab_type": "text"
      },
      "source": [
        "# Поиск наиболее близкого имени участника"
      ]
    },
    {
      "cell_type": "code",
      "metadata": {
        "id": "yfXocnLkwkfZ",
        "colab_type": "code",
        "colab": {
          "base_uri": "https://localhost:8080/",
          "height": 224
        },
        "outputId": "b517a51a-4a85-4592-b939-f5ee08e7b58f"
      },
      "source": [
        "# conda install -c conda-forge python-levenshtein\n",
        "!pip install python-Levenshtein\n",
        "\n",
        "import Levenshtein"
      ],
      "execution_count": 1,
      "outputs": [
        {
          "output_type": "stream",
          "text": [
            "Collecting python-Levenshtein\n",
            "\u001b[?25l  Downloading https://files.pythonhosted.org/packages/42/a9/d1785c85ebf9b7dfacd08938dd028209c34a0ea3b1bcdb895208bd40a67d/python-Levenshtein-0.12.0.tar.gz (48kB)\n",
            "\r\u001b[K     |██████▊                         | 10kB 28.2MB/s eta 0:00:01\r\u001b[K     |█████████████▌                  | 20kB 32.1MB/s eta 0:00:01\r\u001b[K     |████████████████████▏           | 30kB 37.3MB/s eta 0:00:01\r\u001b[K     |███████████████████████████     | 40kB 41.5MB/s eta 0:00:01\r\u001b[K     |████████████████████████████████| 51kB 8.7MB/s \n",
            "\u001b[?25hRequirement already satisfied: setuptools in /usr/local/lib/python3.6/dist-packages (from python-Levenshtein) (45.2.0)\n",
            "Building wheels for collected packages: python-Levenshtein\n",
            "  Building wheel for python-Levenshtein (setup.py) ... \u001b[?25l\u001b[?25hdone\n",
            "  Created wheel for python-Levenshtein: filename=python_Levenshtein-0.12.0-cp36-cp36m-linux_x86_64.whl size=144675 sha256=2f1840332f69c14c95cf29ab911b5b17a50e4f041ffa203e3775899ec0673701\n",
            "  Stored in directory: /root/.cache/pip/wheels/de/c2/93/660fd5f7559049268ad2dc6d81c4e39e9e36518766eaf7e342\n",
            "Successfully built python-Levenshtein\n",
            "Installing collected packages: python-Levenshtein\n",
            "Successfully installed python-Levenshtein-0.12.0\n"
          ],
          "name": "stdout"
        }
      ]
    },
    {
      "cell_type": "code",
      "metadata": {
        "id": "Ak1Ew4uTwkfp",
        "colab_type": "code",
        "colab": {}
      },
      "source": [
        "# что было написано в заявке\n",
        "\n",
        "claim_list = [\n",
        "    'Шехавцова Анна',\n",
        "    'Гречихина Наталья',\n",
        "    'Козлова Алена',\n",
        "    'Груздева Алина',\n",
        "    'Кущенко Анна',\n",
        "    'Чистякова Анастасия'\n",
        "]"
      ],
      "execution_count": 0,
      "outputs": []
    },
    {
      "cell_type": "code",
      "metadata": {
        "id": "L6nELicewkfz",
        "colab_type": "code",
        "colab": {}
      },
      "source": [
        "# результат расшифровки речи диктора\n",
        "\n",
        "speech_recognition = [\n",
        "    'кучменко она',\n",
        "    'кущенко оксана',\n",
        "    'груздь алина',\n",
        "    'рычихина наталья',\n",
        "    'шиховцева на',\n",
        "    'чистова анастасия'\n",
        "]"
      ],
      "execution_count": 0,
      "outputs": []
    },
    {
      "cell_type": "markdown",
      "metadata": {
        "id": "q83VPXQpwkf8",
        "colab_type": "text"
      },
      "source": [
        "### С библиотекой Levenshtein"
      ]
    },
    {
      "cell_type": "code",
      "metadata": {
        "id": "LCjkykn2wkf_",
        "colab_type": "code",
        "colab": {
          "base_uri": "https://localhost:8080/",
          "height": 34
        },
        "outputId": "36f45553-5171-4915-c21b-bfcda4e7d2a4"
      },
      "source": [
        "Levenshtein.distance('Оксана', 'Анна')"
      ],
      "execution_count": 4,
      "outputs": [
        {
          "output_type": "execute_result",
          "data": {
            "text/plain": [
              "4"
            ]
          },
          "metadata": {
            "tags": []
          },
          "execution_count": 4
        }
      ]
    },
    {
      "cell_type": "code",
      "metadata": {
        "id": "pFkMCrvnwkgK",
        "colab_type": "code",
        "colab": {
          "base_uri": "https://localhost:8080/",
          "height": 119
        },
        "outputId": "138789c2-1e54-4db2-fac5-5d21b5f79696"
      },
      "source": [
        "for recognized_name in speech_recognition:\n",
        "    print(recognized_name)"
      ],
      "execution_count": 5,
      "outputs": [
        {
          "output_type": "stream",
          "text": [
            "кучменко она\n",
            "кущенко оксана\n",
            "груздь алина\n",
            "рычихина наталья\n",
            "шиховцева на\n",
            "чистова анастасия\n"
          ],
          "name": "stdout"
        }
      ]
    },
    {
      "cell_type": "code",
      "metadata": {
        "id": "5vRfyZaLwkgk",
        "colab_type": "code",
        "colab": {
          "base_uri": "https://localhost:8080/",
          "height": 629
        },
        "outputId": "009da58c-f654-4762-c74b-0b99b79a9c07"
      },
      "source": [
        "for recognized_name in speech_recognition:\n",
        "    for real_name in claim_list:\n",
        "        print('{},{},{}'.format(recognized_name, real_name, Levenshtein.distance(recognized_name, real_name)))"
      ],
      "execution_count": 6,
      "outputs": [
        {
          "output_type": "stream",
          "text": [
            "кучменко она,Шехавцова Анна,11\n",
            "кучменко она,Гречихина Наталья,14\n",
            "кучменко она,Козлова Алена,11\n",
            "кучменко она,Груздева Алина,10\n",
            "кучменко она,Кущенко Анна,5\n",
            "кучменко она,Чистякова Анастасия,15\n",
            "кущенко оксана,Шехавцова Анна,11\n",
            "кущенко оксана,Гречихина Наталья,15\n",
            "кущенко оксана,Козлова Алена,11\n",
            "кущенко оксана,Груздева Алина,11\n",
            "кущенко оксана,Кущенко Анна,5\n",
            "кущенко оксана,Чистякова Анастасия,14\n",
            "груздь алина,Шехавцова Анна,11\n",
            "груздь алина,Гречихина Наталья,14\n",
            "груздь алина,Козлова Алена,9\n",
            "груздь алина,Груздева Алина,5\n",
            "груздь алина,Кущенко Анна,10\n",
            "груздь алина,Чистякова Анастасия,16\n",
            "рычихина наталья,Шехавцова Анна,14\n",
            "рычихина наталья,Гречихина Наталья,3\n",
            "рычихина наталья,Козлова Алена,14\n",
            "рычихина наталья,Груздева Алина,14\n",
            "рычихина наталья,Кущенко Анна,14\n",
            "рычихина наталья,Чистякова Анастасия,12\n",
            "шиховцева на,Шехавцова Анна,6\n",
            "шиховцева на,Гречихина Наталья,14\n",
            "шиховцева на,Козлова Алена,9\n",
            "шиховцева на,Груздева Алина,9\n",
            "шиховцева на,Кущенко Анна,10\n",
            "шиховцева на,Чистякова Анастасия,13\n",
            "чистова анастасия,Шехавцова Анна,13\n",
            "чистова анастасия,Гречихина Наталья,12\n",
            "чистова анастасия,Козлова Алена,12\n",
            "чистова анастасия,Груздева Алина,14\n",
            "чистова анастасия,Кущенко Анна,14\n",
            "чистова анастасия,Чистякова Анастасия,4\n"
          ],
          "name": "stdout"
        }
      ]
    },
    {
      "cell_type": "markdown",
      "metadata": {
        "id": "IjFCuMOewkgv",
        "colab_type": "text"
      },
      "source": [
        "### Без библиотеки из файла 'recognized_stats.txt'"
      ]
    },
    {
      "cell_type": "code",
      "metadata": {
        "id": "6QVopaOzwkgy",
        "colab_type": "code",
        "colab": {
          "base_uri": "https://localhost:8080/",
          "height": 231
        },
        "outputId": "b82b205c-82cc-40a5-e2ac-43a727c47706"
      },
      "source": [
        "distances = []\n",
        "\n",
        "f = open('recognized_stats.txt', mode = 'r', encoding = 'utf-8')\n",
        "\n",
        "lines = [line.strip().split(';') for line in f]\n",
        "\n",
        "for line in lines:\n",
        "    \n",
        "    for rec in line:\n",
        "        recognized_name, real_name, distance = rec.split(',')\n",
        "        print(recognized_name, real_name, distance)"
      ],
      "execution_count": 7,
      "outputs": [
        {
          "output_type": "error",
          "ename": "FileNotFoundError",
          "evalue": "ignored",
          "traceback": [
            "\u001b[0;31m---------------------------------------------------------------------------\u001b[0m",
            "\u001b[0;31mFileNotFoundError\u001b[0m                         Traceback (most recent call last)",
            "\u001b[0;32m<ipython-input-7-5b032465d280>\u001b[0m in \u001b[0;36m<module>\u001b[0;34m()\u001b[0m\n\u001b[1;32m      1\u001b[0m \u001b[0mdistances\u001b[0m \u001b[0;34m=\u001b[0m \u001b[0;34m[\u001b[0m\u001b[0;34m]\u001b[0m\u001b[0;34m\u001b[0m\u001b[0;34m\u001b[0m\u001b[0m\n\u001b[1;32m      2\u001b[0m \u001b[0;34m\u001b[0m\u001b[0m\n\u001b[0;32m----> 3\u001b[0;31m \u001b[0mf\u001b[0m \u001b[0;34m=\u001b[0m \u001b[0mopen\u001b[0m\u001b[0;34m(\u001b[0m\u001b[0;34m'recognized_stats.txt'\u001b[0m\u001b[0;34m,\u001b[0m \u001b[0mmode\u001b[0m \u001b[0;34m=\u001b[0m \u001b[0;34m'r'\u001b[0m\u001b[0;34m,\u001b[0m \u001b[0mencoding\u001b[0m \u001b[0;34m=\u001b[0m \u001b[0;34m'utf-8'\u001b[0m\u001b[0;34m)\u001b[0m\u001b[0;34m\u001b[0m\u001b[0;34m\u001b[0m\u001b[0m\n\u001b[0m\u001b[1;32m      4\u001b[0m \u001b[0;34m\u001b[0m\u001b[0m\n\u001b[1;32m      5\u001b[0m \u001b[0mlines\u001b[0m \u001b[0;34m=\u001b[0m \u001b[0;34m[\u001b[0m\u001b[0mline\u001b[0m\u001b[0;34m.\u001b[0m\u001b[0mstrip\u001b[0m\u001b[0;34m(\u001b[0m\u001b[0;34m)\u001b[0m\u001b[0;34m.\u001b[0m\u001b[0msplit\u001b[0m\u001b[0;34m(\u001b[0m\u001b[0;34m';'\u001b[0m\u001b[0;34m)\u001b[0m \u001b[0;32mfor\u001b[0m \u001b[0mline\u001b[0m \u001b[0;32min\u001b[0m \u001b[0mf\u001b[0m\u001b[0;34m]\u001b[0m\u001b[0;34m\u001b[0m\u001b[0;34m\u001b[0m\u001b[0m\n",
            "\u001b[0;31mFileNotFoundError\u001b[0m: [Errno 2] No such file or directory: 'recognized_stats.txt'"
          ]
        }
      ]
    },
    {
      "cell_type": "markdown",
      "metadata": {
        "id": "YgPeFauPwkg5",
        "colab_type": "text"
      },
      "source": [
        "### Сортировка словаря"
      ]
    },
    {
      "cell_type": "code",
      "metadata": {
        "id": "O42Q0iz2wkg8",
        "colab_type": "code",
        "colab": {
          "base_uri": "https://localhost:8080/",
          "height": 139
        },
        "outputId": "bd70dfce-ea2e-45e0-bdab-0f8fd7504a74"
      },
      "source": [
        "for recognized_name in speech_recognition:\n",
        "    distances = {real_name: Levenshtein.distance(recognized_name, real_name) for real_name in claim_list}\n",
        "    print(distances)\n",
        "    \n",
        "    #break"
      ],
      "execution_count": 8,
      "outputs": [
        {
          "output_type": "stream",
          "text": [
            "{'Шехавцова Анна': 11, 'Гречихина Наталья': 14, 'Козлова Алена': 11, 'Груздева Алина': 10, 'Кущенко Анна': 5, 'Чистякова Анастасия': 15}\n",
            "{'Шехавцова Анна': 11, 'Гречихина Наталья': 15, 'Козлова Алена': 11, 'Груздева Алина': 11, 'Кущенко Анна': 5, 'Чистякова Анастасия': 14}\n",
            "{'Шехавцова Анна': 11, 'Гречихина Наталья': 14, 'Козлова Алена': 9, 'Груздева Алина': 5, 'Кущенко Анна': 10, 'Чистякова Анастасия': 16}\n",
            "{'Шехавцова Анна': 14, 'Гречихина Наталья': 3, 'Козлова Алена': 14, 'Груздева Алина': 14, 'Кущенко Анна': 14, 'Чистякова Анастасия': 12}\n",
            "{'Шехавцова Анна': 6, 'Гречихина Наталья': 14, 'Козлова Алена': 9, 'Груздева Алина': 9, 'Кущенко Анна': 10, 'Чистякова Анастасия': 13}\n",
            "{'Шехавцова Анна': 13, 'Гречихина Наталья': 12, 'Козлова Алена': 12, 'Груздева Алина': 14, 'Кущенко Анна': 14, 'Чистякова Анастасия': 4}\n"
          ],
          "name": "stdout"
        }
      ]
    },
    {
      "cell_type": "code",
      "metadata": {
        "id": "xFc_E4GqwkhF",
        "colab_type": "code",
        "colab": {
          "base_uri": "https://localhost:8080/",
          "height": 119
        },
        "outputId": "0c7955ba-0393-4079-d46b-97d5414e937c"
      },
      "source": [
        "# x[1] - сортировка по значениям словаря по возрастанию (если надо по убыванию - добавляем минус перед x[1])\n",
        "# x[0] - по ключам\n",
        "sorted(distances.items(), key = lambda x: x[1])"
      ],
      "execution_count": 21,
      "outputs": [
        {
          "output_type": "execute_result",
          "data": {
            "text/plain": [
              "[('Чистякова Анастасия', 4),\n",
              " ('Гречихина Наталья', 12),\n",
              " ('Козлова Алена', 12),\n",
              " ('Шехавцова Анна', 13),\n",
              " ('Груздева Алина', 14),\n",
              " ('Кущенко Анна', 14)]"
            ]
          },
          "metadata": {
            "tags": []
          },
          "execution_count": 21
        }
      ]
    },
    {
      "cell_type": "code",
      "metadata": {
        "id": "A9uXvxrLFlNG",
        "colab_type": "code",
        "colab": {
          "base_uri": "https://localhost:8080/",
          "height": 119
        },
        "outputId": "0b37c1f5-0b6f-4af6-95c4-90a40d7e3eee"
      },
      "source": [
        "for recognized_name in speech_recognition:\n",
        "    distances = {real_name: Levenshtein.distance(recognized_name, real_name) for real_name in claim_list}\n",
        "    print(min(distances,key=distances.get),\" - \",recognized_name)"
      ],
      "execution_count": 26,
      "outputs": [
        {
          "output_type": "stream",
          "text": [
            "Кущенко Анна  -  кучменко она\n",
            "Кущенко Анна  -  кущенко оксана\n",
            "Груздева Алина  -  груздь алина\n",
            "Гречихина Наталья  -  рычихина наталья\n",
            "Шехавцова Анна  -  шиховцева на\n",
            "Чистякова Анастасия  -  чистова анастасия\n"
          ],
          "name": "stdout"
        }
      ]
    },
    {
      "cell_type": "code",
      "metadata": {
        "id": "TXOjxYecIFiF",
        "colab_type": "code",
        "colab": {}
      },
      "source": [
        ""
      ],
      "execution_count": 0,
      "outputs": []
    }
  ]
}